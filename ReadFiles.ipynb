{
  "nbformat": 4,
  "nbformat_minor": 0,
  "metadata": {
    "colab": {
      "provenance": [],
      "include_colab_link": true
    },
    "kernelspec": {
      "name": "python3",
      "display_name": "Python 3"
    },
    "language_info": {
      "name": "python"
    }
  },
  "cells": [
    {
      "cell_type": "markdown",
      "metadata": {
        "id": "view-in-github",
        "colab_type": "text"
      },
      "source": [
        "<a href=\"https://colab.research.google.com/github/buzduz/hello-world/blob/master/ReadFiles.ipynb\" target=\"_parent\"><img src=\"https://colab.research.google.com/assets/colab-badge.svg\" alt=\"Open In Colab\"/></a>"
      ]
    },
    {
      "cell_type": "markdown",
      "source": [
        "# Reading External Files"
      ],
      "metadata": {
        "id": "NJVot-PTl1Jw"
      }
    },
    {
      "cell_type": "markdown",
      "source": [
        "## How we've been doing it\n",
        "> Files from book.\n",
        "> the dmba library makes it easy.\n",
        "\n",
        "> the files are installed on our server along with the libraries."
      ],
      "metadata": {
        "id": "XMtnOidBl8MH"
      }
    },
    {
      "cell_type": "code",
      "execution_count": null,
      "metadata": {
        "id": "Swath0vflsMH"
      },
      "outputs": [],
      "source": [
        "! pip install dmba\n",
        "import dmba\n",
        "dfCars = dmba.load_data('ToyotaCorolla.csv')\n",
        "#check the first lecture for the link how to install it permanently, but don't..."
      ]
    },
    {
      "cell_type": "markdown",
      "source": [
        "# How would we do it if we didn't use dmba library?\n",
        "> Google Colab is hosted via the cloud.\n",
        "> You use their cpu, tpu, and disk.\n",
        "\n",
        "> Look at left hand side:\n",
        "> folder content\n",
        "> and subfolder sample_data (data provided from Google)\n",
        "\n",
        ">We can read the files from there..."
      ],
      "metadata": {
        "id": "kaX1eK9CmNGf"
      }
    },
    {
      "cell_type": "code",
      "source": [
        "import pandas as pd\n",
        "housingTest = pd.read_csv('sample_data/california_housing_train.csv')\n",
        "housingTest.head(3)"
      ],
      "metadata": {
        "id": "yjhIibg_VbUl"
      },
      "execution_count": null,
      "outputs": []
    },
    {
      "cell_type": "markdown",
      "source": [
        "# So, if we put files we have there, we can also read them.\n",
        "1. Download files data.zip from Canvas\n",
        "1. Select ToyotaCorolla.csv (drag and drop to desktop or unarchive all files)\n",
        "2. Click Folder Icon (on Colab) \n",
        "3. Click on triangle next to sample_data (to see the files therein)\n",
        "4. Click on three dots on left\n",
        "4. Upload ToyotaCorolla.csv\n",
        "\n",
        "\n",
        "\n",
        "\n"
      ],
      "metadata": {
        "id": "4OYgObrSWngu"
      }
    },
    {
      "cell_type": "code",
      "source": [
        "dfCars2 = pd.read_csv('sample_data/ToyotaCorolla.csv')\n",
        "dfCars2.head(1)\n"
      ],
      "metadata": {
        "id": "3_sxhJmFmZ04"
      },
      "execution_count": null,
      "outputs": []
    },
    {
      "cell_type": "markdown",
      "source": [
        "# You can also use their API to load files, simplifing the above, but needing to know the functions/libraries."
      ],
      "metadata": {
        "id": "GdaAxshvRAkW"
      }
    },
    {
      "cell_type": "code",
      "source": [
        "from google.colab import files\n",
        "data_to_load = files.upload()\n",
        "finaldata = pd.read_csv('ToyotaCorolla.csv')\n",
        "finaldata.tail(1)\n"
      ],
      "metadata": {
        "id": "Dq6I1B4IQ-_u"
      },
      "execution_count": null,
      "outputs": []
    },
    {
      "cell_type": "markdown",
      "source": [
        "## N.B., We can create other folders, etc., but IT ALL GOES AWAY when we log off!"
      ],
      "metadata": {
        "id": "TJXSZHMjYBp8"
      }
    },
    {
      "cell_type": "markdown",
      "source": [
        "# Next, how to read a file hosted on a website, for example:\n",
        "https://archive.ics.uci.edu/ml/index.php"
      ],
      "metadata": {
        "id": "PqX6bzsYpI2A"
      }
    },
    {
      "cell_type": "markdown",
      "source": [
        "## Let's look at Iris data (the \"hello, world!\" program of data science)."
      ],
      "metadata": {
        "id": "KidnpmFJpa8_"
      }
    },
    {
      "cell_type": "code",
      "source": [
        "!wget https://archive.ics.uci.edu/ml/machine-learning-databases/iris/iris.data"
      ],
      "metadata": {
        "id": "50MdnIrGpopZ"
      },
      "execution_count": null,
      "outputs": []
    },
    {
      "cell_type": "markdown",
      "source": [
        "# Where did it go?\n",
        "# Look at the folders again...\n",
        "> (it is under content, not in sample_data folder)\n",
        "> another way to programatically find what's there..."
      ],
      "metadata": {
        "id": "2UyRXVSpp-Uf"
      }
    },
    {
      "cell_type": "code",
      "source": [
        "! ls"
      ],
      "metadata": {
        "id": "XchTr-YZqDV_",
        "colab": {
          "base_uri": "https://localhost:8080/"
        },
        "outputId": "d58bdea1-9e4b-41c5-f599-ca14b7d21bfe"
      },
      "execution_count": 1,
      "outputs": [
        {
          "output_type": "stream",
          "name": "stdout",
          "text": [
            "sample_data\n"
          ]
        }
      ]
    },
    {
      "cell_type": "markdown",
      "source": [
        "# The file was loaded under \"content\" so you can read it (without the subfolder!)."
      ],
      "metadata": {
        "id": "pcqVTmb6Yrzu"
      }
    },
    {
      "cell_type": "code",
      "source": [
        "test2 = pd.read_csv(\"iris.data\")\n",
        "test2.head()\n"
      ],
      "metadata": {
        "id": "QcDEiWmVUkgG"
      },
      "execution_count": null,
      "outputs": []
    },
    {
      "cell_type": "markdown",
      "source": [
        "## N.B., You can see that there are no headers, thus the first row is assumed to be them.\n",
        "# We could modify the file, save it, and read it again, or..."
      ],
      "metadata": {
        "id": "qGbJ6qgKY5g0"
      }
    },
    {
      "cell_type": "code",
      "source": [
        "colNames = ['SepLen', 'SepWid', 'PetLen', 'PetWid', 'Class']\n",
        "test3 = pd.read_csv(\"iris.data\", names = colNames, header=None)\n",
        "test3"
      ],
      "metadata": {
        "id": "CECa28GjTT8X"
      },
      "execution_count": null,
      "outputs": []
    },
    {
      "cell_type": "markdown",
      "source": [
        "# Better yet, we can combine all of this into one command:"
      ],
      "metadata": {
        "id": "LkVIHN40ZEOd"
      }
    },
    {
      "cell_type": "code",
      "source": [
        "\n",
        "colNames = ['SepLen', 'SepWid', 'PetLen', 'PetWid', 'Class']\n",
        "test4 = pd.read_csv(\"https://archive.ics.uci.edu/ml/machine-learning-databases/iris/iris.data\", names = colNames, header=None)\n",
        "test4"
      ],
      "metadata": {
        "id": "K3vsN537T5o-"
      },
      "execution_count": null,
      "outputs": []
    },
    {
      "cell_type": "markdown",
      "source": [
        "# Finally, since Google is hosting our computation and we have GDrive, we can mount our drive and read files from there (without moving them about)."
      ],
      "metadata": {
        "id": "PLbe_oOyqqc5"
      }
    },
    {
      "cell_type": "code",
      "source": [
        "from google.colab import drive\n",
        "drive.mount('/content/gdrive')\n",
        "#drive.flush_and_unmount()\n"
      ],
      "metadata": {
        "id": "Y0iKnccNq4xB"
      },
      "execution_count": null,
      "outputs": []
    },
    {
      "cell_type": "markdown",
      "source": [
        "## Look at folder or left again.\n",
        "## There is now a connect between our Gdrive and their system.\n",
        "\n",
        "\n",
        "```\n",
        "#read where you store your data  (I stored mine here.)\n",
        "df = pd.read_csv('gdrive/MyDrive/Colab Data/ToyotaCorolla.csv')\n",
        "```\n",
        "\n"
      ],
      "metadata": {
        "id": "VGd9AaoDrg4G"
      }
    },
    {
      "cell_type": "markdown",
      "source": [
        "# HW 2: Analyze (i.e., calculate some statistics):\n",
        "\n",
        "1.   iris data (from UCI)\n",
        "2.   anscombe's data (from sample_data)\n",
        "> Careful: anscombe is json (different storage format)\n",
        "> and consists of X,Y data in four different sets (I-IV).\n",
        "\n",
        "```\n",
        "# to read a json file and show the first two obs for each series...\n",
        "...remember what folder you put your file (YRMV).\n",
        "pd.read_json('sample_data/anscombe.json').groupby('Series').head(2)\n",
        "```\n",
        "\n",
        "Write up a paragraph for each indicating your first analysis with things such as frequencies, statistics, etc.\n",
        "(This is HW, so won't be collected.  Just play with it and we will go over it in class.)\n",
        "\n",
        "\n",
        "\n",
        "\n",
        "\n",
        "\n"
      ],
      "metadata": {
        "id": "NyBnELHrsl93"
      }
    }
  ]
}